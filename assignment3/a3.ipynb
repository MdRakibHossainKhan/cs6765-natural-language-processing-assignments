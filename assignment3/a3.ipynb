{
 "cells": [
  {
   "cell_type": "markdown",
   "id": "304e37a2",
   "metadata": {},
   "source": [
    "# CS4765/6765 NLP Assignment 3: Word vectors\n",
    "\n",
    "**Due 4 November at 23:59**\n",
    "\n",
    "In this two part assignment you will first examine and interact with word vectors. (This part of the assignment is adapted from a CS224N assignment at Stanford.) You will then implement a new approach to sentiment analysis.\n",
    "\n",
    "In this assignment we will use [gensim](https://radimrehurek.com/gensim/) to access and interact with word embeddings. In gensim we’ll be working with a KeyedVectors object which represents word embeddings. [Documentation for KeyedVectors is available.](https://radimrehurek.com/gensim/models/keyedvectors.html) However, this assignment description and the sample code in it might be sufficient to show you how to use a KeyedVectors object. The will use [GloVe word embeddings](https://nlp.stanford.edu/projects/glove/) that have been trained on Wikipedia and the Gigaword corpus.\n"
   ]
  },
  {
   "cell_type": "code",
   "execution_count": null,
   "id": "0ffb28a8",
   "metadata": {},
   "outputs": [],
   "source": [
    "import gensim.downloader\n",
    "model = gensim.downloader.load('glove-wiki-gigaword-300')"
   ]
  },
  {
   "cell_type": "markdown",
   "id": "192b65d9",
   "metadata": {},
   "source": [
    "# Part 1: Examining word vectors (8 marks)\n",
    "\n",
    "## Polysemy and homonymy\n",
    "\n",
    "Polysemy and homonymy are the phenomena of words having multiple meanings/senses. The nearest neighbours (under cosine similarity) for a given word can indicate whether it has multiple senses.\n",
    "\n",
    "Consider the following example which shows the top-10 most similar words for *mouse*. The \"input device\" and \"animal\" senses of *mouse* are clearly visible from the top-10 most similar words. \n"
   ]
  },
  {
   "cell_type": "code",
   "execution_count": null,
   "id": "a32120e3",
   "metadata": {
    "scrolled": true
   },
   "outputs": [],
   "source": [
    "# Find words most similar using cosine similarity to \"mouse\". \n",
    "# restrict_vocab=100000 limits the results to most frequent\n",
    "# 100000 words. This avoids rare words in the output. For this\n",
    "# assignment, whenever you call most_simlilar, also pass\n",
    "# restrict_vocab=100000.\n",
    "model.most_similar('mouse', restrict_vocab=100000)"
   ]
  },
  {
   "cell_type": "markdown",
   "id": "2f34e2ac",
   "metadata": {},
   "source": [
    "*keyboard*, *joystick*, and *cursor* correspond to the input device sense. *mice*, *rat*, *rabbit*, *rodent*, *monkey*, *rats*, and *cat* correspond to the animal sense. (You can observe something similar for the different senses of the word *leaves*.)\n",
    "\n",
    "Find a new example that exhibits polysemy/homonymy, show its top-10 most similar words, and explain why they show that this word has multiple senses. Write your answer in the code and text boxes below."
   ]
  },
  {
   "cell_type": "code",
   "execution_count": null,
   "id": "f0194298",
   "metadata": {},
   "outputs": [],
   "source": [
    "# Write your code here"
   ]
  },
  {
   "cell_type": "markdown",
   "id": "86905a9c",
   "metadata": {},
   "source": [
    "Write your answer here"
   ]
  },
  {
   "cell_type": "markdown",
   "id": "6e90ead9",
   "metadata": {},
   "source": [
    "## Synonyms and antonyms\n",
    "\n",
    "Find three words (w1 , w2 , w3) such that w1 and w2 are synonyms (i.e., have roughly the same meaning), and w1 and w3 are antonyms (i.e., have opposite meanings), but the similarity between w1 and w3 > the similarity between w1 and w2. Note that this should be counter to your expectations, because synonyms (which mean roughly the same thing) would be expected to be more similar than antonyms (which have opposite meanings). Explain why you think this unexpected situation might have occurred.\n",
    "\n",
    "Here is an example. w1 = *happy*, w2 = *cheerful*, and w3 = *sad*. (You will need to find a different example for your report.) Notice that the antonyms *happy* and *sad* are more similar than the (near) synonyms *happy* and *cheerful*.\n"
   ]
  },
  {
   "cell_type": "code",
   "execution_count": null,
   "id": "45f158c0",
   "metadata": {},
   "outputs": [],
   "source": [
    "# Find the cosine similarity between \"happy\" and \"cheerful\"\n",
    "model.similarity('happy', 'cheerful')\n"
   ]
  },
  {
   "cell_type": "code",
   "execution_count": null,
   "id": "b5fd9873",
   "metadata": {},
   "outputs": [],
   "source": [
    "# and between \"happy\" and \"sad\".\n",
    "model.similarity('happy', 'sad')\n"
   ]
  },
  {
   "cell_type": "code",
   "execution_count": null,
   "id": "ddcfdeb6-aca0-47ee-9341-7669e3287863",
   "metadata": {},
   "outputs": [],
   "source": [
    "# Write your code here"
   ]
  },
  {
   "cell_type": "markdown",
   "id": "05c15629",
   "metadata": {},
   "source": [
    "Write your answer here"
   ]
  },
  {
   "cell_type": "markdown",
   "id": "eb72540c",
   "metadata": {},
   "source": [
    "## Analogies\n",
    "\n",
    "Analogies such as man is to king as woman is to X can be solved using word embeddings. This analogy can be expressed as X = woman + king − man. The following code snippet shows how to solve this analogy with gensim. Notice that the model gets it correct! I.e., *queen* is the most similar word."
   ]
  },
  {
   "cell_type": "code",
   "execution_count": null,
   "id": "24c757c6",
   "metadata": {},
   "outputs": [],
   "source": [
    "# Find the model's predictions for the solution to the analogy\n",
    "# \"man\" is to \"king\" as \"woman\" is to X\n",
    "model.most_similar(positive=['woman', 'king'],\n",
    "                   negative=['man'],\n",
    "                   restrict_vocab=100000)\n"
   ]
  },
  {
   "cell_type": "markdown",
   "id": "0416e879",
   "metadata": {},
   "source": [
    "### Correct analogy\n",
    "\n",
    "Find a new analogy that the model is able to answer correctly (i.e., the most-similar word is the solution to the analogy). Explain briefly why the analogy holds. For the above example, this explanation would be something along the lines of a king is a ruler who is a man and a queen is a ruler who is a woman.\n"
   ]
  },
  {
   "cell_type": "code",
   "execution_count": null,
   "id": "f75da5f5",
   "metadata": {},
   "outputs": [],
   "source": [
    "# Write your code here"
   ]
  },
  {
   "cell_type": "markdown",
   "id": "cdcdf5fa",
   "metadata": {},
   "source": [
    "Write your answer here"
   ]
  },
  {
   "cell_type": "markdown",
   "id": "7137368b",
   "metadata": {},
   "source": [
    "### Incorrect analogy\n",
    "\n",
    "Find a new analogy that the model is not able to answer correctly. Again explain briefly why the analogy holds. For example, here is an analogy that the model does not answer correctly:\n"
   ]
  },
  {
   "cell_type": "code",
   "execution_count": null,
   "id": "6d4e4bcd",
   "metadata": {},
   "outputs": [],
   "source": [
    "# Find the model's predictions for the solution to the analogy\n",
    "# \"finger\" is to \"hand\" as \"toe\" is to X\n",
    "model.most_similar(positive=['toe', 'hand'],\n",
    "                   negative=['finger'],\n",
    "                   restrict_vocab=100000)\n"
   ]
  },
  {
   "cell_type": "markdown",
   "id": "7c70dad5",
   "metadata": {},
   "source": [
    "A finger is part of a hand, and a toe is part of a foot, but the model does not predict *foot*, or a similar term, as the most similar word."
   ]
  },
  {
   "cell_type": "code",
   "execution_count": null,
   "id": "30a21892",
   "metadata": {},
   "outputs": [],
   "source": [
    "# Write your code here"
   ]
  },
  {
   "cell_type": "markdown",
   "id": "5c636b77",
   "metadata": {},
   "source": [
    "Write your answer here"
   ]
  },
  {
   "cell_type": "markdown",
   "id": "e5dae136",
   "metadata": {},
   "source": [
    "## Bias\n",
    "\n",
    "Consider the examples below. The first shows the words that are most similar to *man* and *worker* and least similar to *woman*. The second shows the words that are most similar to *woman* and *worker* and least similar to *man*."
   ]
  },
  {
   "cell_type": "code",
   "execution_count": null,
   "id": "79b1ccfd",
   "metadata": {},
   "outputs": [],
   "source": [
    "# Find the words that are most similar to \"man\" and \"worker\" and\n",
    "# least similar to \"woman\".\n",
    "model.most_similar(positive=['man', 'worker'],\n",
    "                   negative=['woman'],\n",
    "                   restrict_vocab=100000)\n",
    "\n"
   ]
  },
  {
   "cell_type": "code",
   "execution_count": null,
   "id": "cd781f83",
   "metadata": {},
   "outputs": [],
   "source": [
    "# Find the words that are most similar to \"woman\" and \"worker\" and\n",
    "# least similar to \"man\".\n",
    "model.most_similar(positive=['woman', 'worker'],\n",
    "                   negative=['man'],\n",
    "                   restrict_vocab=100000)\n",
    "\n"
   ]
  },
  {
   "cell_type": "markdown",
   "id": "22a4f4e6",
   "metadata": {},
   "source": [
    "The output shows that *man* is associated with some stereotypically male jobs (e.g., *mechanic*) while *woman* is associated with some stereotypically female jobs (e.g., *nurse*, *receptionist*, *housewife*, *registered_\n",
    "nurse*). This indicates that there is gender bias in the word embeddings.\n",
    "\n",
    "Find a new example, using the same approach as above, that indicates that there is bias in the word embeddings. Briefly explain how the model output indicates that there is bias in the word embeddings. (You are by no means restricted to considering gender bias here. You are encouraged to explore other ways that embeddings might indicate bias.)"
   ]
  },
  {
   "cell_type": "code",
   "execution_count": null,
   "id": "8765625f",
   "metadata": {},
   "outputs": [],
   "source": [
    "# Write your code here"
   ]
  },
  {
   "cell_type": "markdown",
   "id": "e0ec7446",
   "metadata": {},
   "source": [
    "Write your answer here"
   ]
  },
  {
   "cell_type": "markdown",
   "id": "96583e72",
   "metadata": {},
   "source": [
    "# Part 2: Sentiment Analysis (2 marks)\n",
    "\n",
    "## Background and data\n",
    "\n",
    "In this part of the assignment you will revisit sentiment analysis from assignment\n",
    "2. You will need the data provided for that\n",
    "assignment. We will consider sentiment analysis using an average of\n",
    "word embeddings document representation and a logistic regression\n",
    "classifier and compare this to the approaches from assignment 2.\n",
    "\n",
    "\n",
    "\n",
    "## Approach\n",
    "\n",
    "We will consider sentiment analysis using an average of word embeddings document representation and a multinomial logistic regression classifier. We will compare this approach to the approaches from assignment 2.\n",
    "\n",
    "Complete the function `vec_for_doc` below. (You should not modify other parts of the\n",
    "code.) This function takes a list consisting of the tokens in a document $d$. It then returns a vector $\\vec{v}$ representing the document as the average of the embeddings for the words in the document as follows:\n",
    "\n",
    "\\begin{equation}\n",
    "d = w_1, w_2, ... w_n\n",
    "\\end{equation}\n",
    "\\begin{equation}\n",
    "\\vec{v} = \\dfrac{\\vec{w_1} + \\vec{w_2} + ... + \\vec{w_n}}{n}\\\\\n",
    "\\end{equation}\n",
    "\n",
    "If a word in a document does not occur in the word embedding model, you can simply ignore it. (Note that we would normally need to deal with the case of a document that consists entirely of words that don't occur in the embedding model, but for this dataset and embedding model, that situation does not occur, and so for now we won't worry about it.)"
   ]
  },
  {
   "cell_type": "code",
   "execution_count": null,
   "id": "855e4ef9",
   "metadata": {},
   "outputs": [],
   "source": [
    "# TODO: Implement this function. tokenized_doc is a list of tokens in\n",
    "# a document. Return a vector representation of the document as\n",
    "# described above.\n",
    "# Hints: \n",
    "# -You can get the vector for a word w using model[w] or\n",
    "#  model.get_vector(w)\n",
    "# -You can add vectors using + and sum, e.g.,\n",
    "#  model['cat'] + model['dog']\n",
    "#  sum([model['cat'], model['dog']])\n",
    "# -You can see the shape of a vector using model['cat'].shape\n",
    "# -The vector you return should have the same shape as a word vector \n",
    "# -This should be a very short function. If you're writing lots of\n",
    "#  code, you are likely off track.\n",
    "def vec_for_doc(tokenized_doc):\n",
    "    # TODO: Add your code here\n",
    "\n",
    "    \n",
    "    # Delete the line below. It's only here so the starter code runs without error.\n",
    "    return model['cat']    \n"
   ]
  },
  {
   "cell_type": "markdown",
   "id": "eb48b4c8-3959-4ce0-90e3-17441e547537",
   "metadata": {},
   "source": [
    "Once you've completed `vec_for_doc` above, run the code below to train logistic regresion on the training data and evaluate on the dev data"
   ]
  },
  {
   "cell_type": "code",
   "execution_count": null,
   "id": "3b69d0a7",
   "metadata": {},
   "outputs": [],
   "source": [
    "from sklearn.linear_model import LogisticRegression\n",
    "from sklearn.metrics import precision_recall_fscore_support, accuracy_score\n",
    "\n",
    "# Same tokenize function from A2\n",
    "# A very simple tokenizer. Applies case folding. \n",
    "# (The documents we are working with have already been tokenized and each token is separated by whitespace.)\n",
    "def tokenize(s):\n",
    "    return s.lower().split()\n",
    "\n",
    "# Load the A2 training and dev data\n",
    "train_texts_fname = 'a2data/movie_reviews_train_docs.txt'\n",
    "train_klasses_fname = 'a2data/movie_reviews_train_classes.txt'\n",
    "dev_texts_fname = 'a2data/movie_reviews_dev_docs.txt'\n",
    "dev_klasses_fname = 'a2data/movie_reviews_dev_classes.txt'\n",
    "\n",
    "train_texts = [x.strip() for x in open(train_texts_fname, encoding='utf8')]\n",
    "train_klasses = [x.strip() for x in open(train_klasses_fname, encoding='utf8')]\n",
    "dev_texts = [x.strip() for x in open(dev_texts_fname, encoding='utf8')]\n",
    "dev_klasses = [x.strip() for x in open(dev_klasses_fname, encoding='utf8')]\n",
    "\n",
    "# A helper function from A2 to print out macro-average P,R,F1 and accuracy.\n",
    "# Uses implementantions of evaluation metrics from sklearn.\n",
    "def print_results(gold_labels, predicted_labels):\n",
    "    p,r,f,_ = precision_recall_fscore_support(gold_labels, \n",
    "                                              predicted_labels, \n",
    "                                              average='macro', \n",
    "                                              zero_division=0)\n",
    "    acc = accuracy_score(gold_labels, predicted_labels)\n",
    "\n",
    "    print(\"Precision: \", p)\n",
    "    print(\"Recall: \", r)\n",
    "    print(\"F1: \", f)\n",
    "    print(\"Accuracy: \", acc)\n",
    "    print()\n",
    "\n",
    "# train_vecs and dev_vecs are lists; each element is a vector\n",
    "# representing a (train or dev) document\n",
    "train_vecs = [vec_for_doc(tokenize(x)) for x in train_texts]\n",
    "dev_vecs = [vec_for_doc(tokenize(x)) for x in dev_texts]\n",
    "\n",
    "# Train logistic regression, same as A2\n",
    "lr = LogisticRegression(multi_class='multinomial',\n",
    "                        solver='sag',\n",
    "                        penalty='l2',\n",
    "                        max_iter=2000,\n",
    "                        random_state=0)\n",
    "clf = lr.fit(train_vecs, train_klasses)\n",
    "dev_predictions = clf.predict(dev_vecs)\n",
    "\n",
    "print_results(dev_klasses, dev_predictions)\n"
   ]
  },
  {
   "cell_type": "markdown",
   "id": "ea03f587-c034-456c-86e7-5aa2c3b394a8",
   "metadata": {},
   "source": [
    "Finally, evaluate on the test data"
   ]
  },
  {
   "cell_type": "code",
   "execution_count": null,
   "id": "c13688df-a4cd-4162-965d-e350146a830d",
   "metadata": {},
   "outputs": [],
   "source": [
    "test_texts_fname = 'a2data/movie_reviews_test_docs.txt'\n",
    "test_klasses_fname = 'a2data/movie_reviews_test_classes.txt'\n",
    "\n",
    "test_texts = [x.strip() for x in open(test_texts_fname, encoding='utf8')]\n",
    "test_klasses = [x.strip() for x in open(test_klasses_fname, encoding='utf8')]\n",
    "\n",
    "test_vecs = [vec_for_doc(tokenize(x)) for x in test_texts]\n",
    "test_predictions = clf.predict(test_vecs)\n",
    "\n",
    "print_results(test_klasses, test_predictions)"
   ]
  },
  {
   "cell_type": "markdown",
   "id": "3155dc3d-bcee-4b77-82ee-6239bff77b7d",
   "metadata": {},
   "source": [
    "Run the code below to replicate the test results for logistic regression from A2."
   ]
  },
  {
   "cell_type": "code",
   "execution_count": null,
   "id": "bf4b3a57-9d02-4877-85b9-7967c221925a",
   "metadata": {},
   "outputs": [],
   "source": [
    "from sklearn.feature_extraction.text import CountVectorizer\n",
    "\n",
    "count_vectorizer = CountVectorizer(analyzer=tokenize)\n",
    "train_counts = count_vectorizer.fit_transform(train_texts)\n",
    "test_counts = count_vectorizer.transform(test_texts)\n",
    "\n",
    "lr_A2 = LogisticRegression(multi_class='multinomial',\n",
    "                           solver='sag',\n",
    "                           penalty='l2',\n",
    "                           max_iter=2000,\n",
    "                           random_state=0)\n",
    "clf_A2 = lr_A2.fit(train_counts, train_klasses)\n",
    "\n",
    "A2_test_predictions = clf_A2.predict(test_counts)\n",
    "\n",
    "print_results(test_klasses, A2_test_predictions)"
   ]
  },
  {
   "cell_type": "markdown",
   "id": "543028a5-2505-4b0b-b15c-3eac6a431c40",
   "metadata": {},
   "source": [
    "Compare the results on the test data here to the results using logistic regression on the test data for assignment 2. The difference between these two approaches is the document representation. In this assignment we used a document representation based on average of word embeddings. In assignment 2 we used a document representation based on word counts. Which method performs better?"
   ]
  },
  {
   "cell_type": "markdown",
   "id": "07a2961a-ae6a-4232-a908-dbea1854b73e",
   "metadata": {},
   "source": [
    "TODO: Write your answer here"
   ]
  },
  {
   "cell_type": "markdown",
   "id": "fa2f4984",
   "metadata": {},
   "source": [
    "# Submitting your work\n",
    "\n",
    "When you're done, submit a3.ipynb to the assignment 3 folder on D2L by the deadline."
   ]
  }
 ],
 "metadata": {
  "kernelspec": {
   "display_name": "Python 3 (ipykernel)",
   "language": "python",
   "name": "python3"
  },
  "language_info": {
   "codemirror_mode": {
    "name": "ipython",
    "version": 3
   },
   "file_extension": ".py",
   "mimetype": "text/x-python",
   "name": "python",
   "nbconvert_exporter": "python",
   "pygments_lexer": "ipython3",
   "version": "3.10.13"
  }
 },
 "nbformat": 4,
 "nbformat_minor": 5
}
